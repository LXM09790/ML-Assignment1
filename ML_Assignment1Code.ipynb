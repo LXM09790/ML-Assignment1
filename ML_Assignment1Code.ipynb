{
  "nbformat": 4,
  "nbformat_minor": 0,
  "metadata": {
    "colab": {
      "provenance": []
    },
    "kernelspec": {
      "name": "python3",
      "display_name": "Python 3"
    },
    "language_info": {
      "name": "python"
    }
  },
  "cells": [
    {
      "cell_type": "code",
      "execution_count": 16,
      "metadata": {
        "colab": {
          "base_uri": "https://localhost:8080/"
        },
        "id": "H3s8Q1a5L3DT",
        "outputId": "195eb2de-7067-454b-abc0-7b3ef0835882"
      },
      "outputs": [
        {
          "output_type": "stream",
          "name": "stdout",
          "text": [
            "Sorted Ages= [19, 19, 20, 22, 24, 24, 24, 25, 25, 26]\n",
            "Min Age= 19\n",
            "Max Age= 26\n",
            "After appending the elements to the List=  [19, 19, 20, 22, 24, 24, 24, 25, 25, 26, 19, 26]\n",
            "Median of Ages= 24.0\n",
            "Average = 22.75\n",
            "Range= 7\n"
          ]
        }
      ],
      "source": [
        "#Question 1\n",
        "import statistics\n",
        "ages = [19, 22, 19, 24, 20, 25, 26, 24, 25, 24]\n",
        "# 1.1  Sort the list and find the min and max age\n",
        "Sorted_Ages_List = sorted(ages) #sorted() is used to sort the elements in the List\n",
        "print(\"Sorted Ages=\",Sorted_Ages_List)\n",
        "print(\"Min Age=\",min(Sorted_Ages_List)) #min()is used to find the minimum element in th List.\n",
        "print(\"Max Age=\",max(Sorted_Ages_List)) #max() is used to finid the maximum element in the List.\n",
        "\n",
        "#1.2 Add the min age and the max age again to the list\n",
        "Sorted_Ages_List.append(min(Sorted_Ages_List)) #append() is used to add the elements in the List.\n",
        "Sorted_Ages_List.append(max(Sorted_Ages_List)) #append() is used to add the elements in the List.\n",
        "print(\"After appending the elements to the List= \",Sorted_Ages_List)\n",
        "\n",
        "#1.3 Find the median age (one middle item or two middle items divided by two)\n",
        "print(\"Median of Ages=\",statistics.median(Sorted_Ages_List))#By importing statistics library we can use median() to calculate median\n",
        "\n",
        "#1.4 Find the average age (sum of all items divided by their number)\n",
        "length=len(Sorted_Ages_List) #len() it returns the length of the List.\n",
        "Sum = 0\n",
        "for i in range (0,length,1): # To get the sum of the elements in the List.\n",
        "  Sum = Sum + Sorted_Ages_List[i]\n",
        "print(\"Average =\",Sum/length) #To get the average we do sum of elements is divided by the length to get the Average.\n",
        "\n",
        "#1.5 Find the range of the ages (max minus min)\n",
        "print(\"Range=\",max(Sorted_Ages_List)-min(Sorted_Ages_List)) #By finding difference between minimum value and maximum value we get the Range.\n"
      ]
    },
    {
      "cell_type": "code",
      "source": [
        "#Question 2\n",
        "\n",
        "#2.1 Create an empty dictionary called dog\n",
        "Dog={} #{}->By using this symbol we can create empty dictionary\n",
        "\n",
        "#2.2 Add name, color, breed, legs, age to the dog dictionary\n",
        "Dog = {\"name\":\"Cooper\", \"color\":\"Brown\", \"breed\":\"Husky\", \"legs\":4, \"age\":3}#Assigning the values in the Dictionary.\n",
        "\n",
        "#2.3 Create a student dictionary and add first_name, last_name, gender, age, marital status, skills, country, city and address as keys for the dictionary\n",
        "student = {\n",
        "    \"First_Name\":\"Leela Sekhar Chowdary\",\n",
        "    \"Last_Name\":\"Mannava\", \n",
        "    \"Gender\":\"Male\", \n",
        "    \"Age\":23,\n",
        "    \"Marital Status\":\"Single\",\n",
        "    \"Skills\":['c','java'], \n",
        "    \"Country\":\"UNITED STATES OF AMERICA\", \n",
        "    \"City\":\"KANSAS\", \n",
        "    \"Address\":\"OVERLAND PARK\"\n",
        "}\n",
        "\n",
        "#2.4 Get the length of the student dictionary\n",
        "print(\"Length of Student Dictionary= \",len(student))#len() it returns the length of the Dictionary.\n",
        "\n",
        "#2.5 Get the value of skills and check the data type, it should be a list\n",
        "print(\"\\nThe Skills are:\",student.get('Skills'))#get() is used the get the values from the dictionary.\n",
        "print(\"\\nType :\",type(student['Skills']))#type() returns the data type of the dictionary elements.\n",
        "\n",
        "#2.6 Modify the skills values by adding one or two skills\n",
        "student['Skills'].append(\"HTML\")#to add more values to the key which is type list so we use append()\n",
        "print(\"\\nBy  adding an extra skill:\",student.get('Skills'))\n",
        "\n",
        "#2.7 Get the dictionary keys as a list\n",
        "print(\"\\nThe keys in student dictionary :\",student.keys())#key() is used to get keys of dictionary.\n",
        "\n",
        "#2.8 Get the dictionary values as a list\n",
        "print(\"\\nThe keys in student dictionary :\",student.values())#values() is used to get values of dictionary.\n"
      ],
      "metadata": {
        "colab": {
          "base_uri": "https://localhost:8080/"
        },
        "id": "b1wjyjCAoT60",
        "outputId": "68298cf5-1a2e-4794-f39f-b8de6392ebc9"
      },
      "execution_count": 22,
      "outputs": [
        {
          "output_type": "stream",
          "name": "stdout",
          "text": [
            "Length of Student Dictionary=  9\n",
            "\n",
            "The Skills are: ['c', 'java']\n",
            "\n",
            "Type : <class 'list'>\n",
            "\n",
            "By  adding an extra skill: ['c', 'java', 'HTML']\n",
            "\n",
            "The keys in student dictionary : dict_keys(['First_Name', 'Last_Name', 'Gender', 'Age', 'Marital Status', 'Skills', 'Country', 'City', 'Address'])\n",
            "\n",
            "The keys in student dictionary : dict_values(['Leela Sekhar Chowdary', 'Mannava', 'Male', 23, 'Single', ['c', 'java', 'HTML'], 'UNITED STATES OF AMERICA', 'KANSAS', 'OVERLAND PARK'])\n"
          ]
        }
      ]
    },
    {
      "cell_type": "code",
      "source": [
        "#Question 3\n",
        "#3.1 Create a tuple containing names of your sisters and your brothers (imaginary siblings are fine)\n",
        "brothers = (\"Ravi\", \"Hari\", \"Likith\")\n",
        "sisters = (\"Sravya\",\"Nikitha\")\n",
        "\n",
        "#3.2 Join brothers and sisters tuples and assign it to siblings\n",
        "siblings = brothers+sisters #By using \"+\" we can concatinate two tuples\n",
        "print(\"\\nAfter adding brothers and sisters: \",siblings)\n",
        "\n",
        "#3.3 How many siblings do you have?\n",
        "print(\"\\nThe length of siblings :\",len(siblings))\n",
        "\n",
        "#3.4 Modify the siblings tuple and add the name of your father and mother and assign it to family_members\n",
        "siblings = siblings + (\"Venkatesh\",\"Annapurna\")\n",
        "family_members = siblings\n",
        "print(\"\\nAfter adding father and mother name :\",family_members,\"\\n\") "
      ],
      "metadata": {
        "colab": {
          "base_uri": "https://localhost:8080/"
        },
        "id": "wIkemBz14gCe",
        "outputId": "7f45adaa-3f28-408d-e872-c3796a209d85"
      },
      "execution_count": 25,
      "outputs": [
        {
          "output_type": "stream",
          "name": "stdout",
          "text": [
            "\n",
            "After adding brothers and sisters:  ('Ravi', 'Hari', 'Likith', 'Sravya', 'Nikitha')\n",
            "\n",
            "The length of siblings : 5\n",
            "\n",
            "After adding father and mother name : ('Ravi', 'Hari', 'Likith', 'Sravya', 'Nikitha', 'Venkatesh', 'Annapurna') \n",
            "\n"
          ]
        }
      ]
    },
    {
      "cell_type": "code",
      "source": [
        "#Question 4\n",
        "it_companies = {'Facebook', 'Google', 'Microsoft', 'Apple', 'IBM', 'Oracle', 'Amazon'}\n",
        "A = {19, 22, 24, 20, 25, 26}\n",
        "B = {19, 22, 20, 25, 26, 24, 28, 27}\n",
        "age = [22, 19, 24, 25, 26, 24, 25, 24]\n",
        "\n",
        "#4.1 Find the length of the set it_companies\n",
        "print(\"length of the set it_companies= \",len(it_companies))\n",
        "\n",
        "#4.2 Add 'Twitter' to it_companies\n",
        "it_companies.add('Twitter')#add() is used to insert the element\n",
        "print(\"it_companies after adding Twitter\",it_companies)\n",
        "\n",
        "#4.3Insert multiple IT companies at once to the set it_companies\n",
        "new_companies = ['Infosys','Capgemini','DXC']\n",
        "it_companies.update(new_companies)#to add the list of elements to the set we use update()\n",
        "print(\"\\nAter adding multiple companies, it_companies=\",it_companies)\n",
        "\n",
        "#4.4 Remove one of the companies from the set it_companies\n",
        "it_companies.remove('DXC')\n",
        "print(\"\\nAter deleting a company DXC = \",it_companies)\n",
        "\n",
        "#4.5 What is the difference between remove and discard\n",
        "'''\n",
        "The difference between remove and discard is if we want to delete an element in the set that is not\n",
        "present in the set by using remove then gives an error whereas discard\n",
        "doesn't show any error it just keeps the set un disturbed\n",
        "'''\n",
        "it_companies.discard('Goldman Sachs')\n",
        "print(\"\\ndicard usage\",it_companies)\n",
        "\n",
        "#4.5 Join A and B\n",
        "C=B.union(A)#union() is used to merge to sets\n",
        "print(\"\\nAfter joining A and B, the resultant set= \",C)\n",
        "\n",
        "#4.6 Find A intersection B\n",
        "print(\"\\nIntersection set =\",A.intersection(B))#intersection() is use to find the intersection points in the set\n",
        "\n",
        "#4.7 Is A subset of B\n",
        "print(\"\\nA is subset of B (True/False) :\",A.issubset(B))#issubset() is used to find the subset or not\n",
        "\n",
        "#4.8 Are A and B disjoint sets\n",
        "print(\"\\nAre A and B disjoint sets (True/False) :\",A.isdisjoint(B))#isdisjoint() is used to find the disjointset or not\n",
        "\n",
        "#4.9 Join A with B and B with A\n",
        "print(\"\\nJoining A with B:\",A.union(B))\n",
        "print(\"Joining B with A:\",B.union(A))\n",
        "\n",
        "#4.10 What is the symmetric difference between A and B\n",
        "print(\"\\nThe symmentric difference is : \",A.symmetric_difference(B))\n",
        "\n",
        "#4.11 Delete the sets completely\n",
        "del A\n",
        "del B\n",
        "\n",
        "#4.12 Convert the ages to a set and compare the length of the list and the set.\n",
        "Set = set(age)\n",
        "print(\"\\nConverted to set\",Set)\n",
        "print(\"\\nThe length of list is :\",len(age),\"and set is :\",len(Set))\n",
        "\n"
      ],
      "metadata": {
        "colab": {
          "base_uri": "https://localhost:8080/"
        },
        "id": "yfk7QJ4tBohb",
        "outputId": "b91610ea-555f-4a09-9800-f0a9fcc76639"
      },
      "execution_count": 36,
      "outputs": [
        {
          "output_type": "stream",
          "name": "stdout",
          "text": [
            "length of the set it_companies=  7\n",
            "it_companies after adding Twitter {'IBM', 'Microsoft', 'Apple', 'Facebook', 'Amazon', 'Oracle', 'Twitter', 'Google'}\n",
            "\n",
            "Ater adding multiple companies, it_companies= {'DXC', 'IBM', 'Microsoft', 'Apple', 'Facebook', 'Amazon', 'Capgemini', 'Infosys', 'Oracle', 'Twitter', 'Google'}\n",
            "\n",
            "Ater deleting a company DXC =  {'IBM', 'Microsoft', 'Apple', 'Facebook', 'Amazon', 'Capgemini', 'Infosys', 'Oracle', 'Twitter', 'Google'}\n",
            "\n",
            "dicard usage {'IBM', 'Microsoft', 'Apple', 'Facebook', 'Amazon', 'Capgemini', 'Infosys', 'Oracle', 'Twitter', 'Google'}\n",
            "\n",
            "After joining A and B, the resultant set=  {19, 20, 22, 24, 25, 26, 27, 28}\n",
            "\n",
            "Intersection set = {19, 20, 22, 24, 25, 26}\n",
            "\n",
            "A is subset of B (True/False) : True\n",
            "\n",
            "Are A and B disjoint sets (True/False) : False\n",
            "\n",
            "Joining A with B: {19, 20, 22, 24, 25, 26, 27, 28}\n",
            "Joining B with A: {19, 20, 22, 24, 25, 26, 27, 28}\n",
            "\n",
            "The symmentric difference is :  {27, 28}\n",
            "\n",
            "Converted to set {19, 22, 24, 25, 26}\n",
            "\n",
            "The length of list is : 8 and set is : 5\n"
          ]
        }
      ]
    },
    {
      "cell_type": "code",
      "source": [
        "#Question 5\n",
        "import math\n",
        "constant = math.pi\n",
        "radius = 30\n",
        "\n",
        "#5.1 Calculate the area of a circle and assign the value to a variable name of _area_of_circle_\n",
        "_area_of_circle_ = constant * radius * radius\n",
        "print(\"Area :\",_area_of_circle_)\n",
        "#5.2 Calculate the circumference of a circle and assign the value to a variable name of _circum_of_circle_\n",
        "_circum_of_circle_= 2 * constant * radius\n",
        "print(\"Circumference :\",_circum_of_circle_)\n",
        "\n",
        "#5.3 Take radius as user input and calculate the area.\n",
        "new_radius = float(input(\"Enter the radius value: \"))\n",
        "Area = constant * new_radius * new_radius\n",
        "\n",
        "print(\"for given radius = \",new_radius,\" Area =\",Area)"
      ],
      "metadata": {
        "colab": {
          "base_uri": "https://localhost:8080/"
        },
        "id": "hi7nyAETDatX",
        "outputId": "8bb1ad83-3a9d-440d-9094-af9ee20e49d8"
      },
      "execution_count": 38,
      "outputs": [
        {
          "output_type": "stream",
          "name": "stdout",
          "text": [
            "Area : 2827.4333882308138\n",
            "Circumference : 188.49555921538757\n",
            "Enter the radius value: 10\n",
            "for given radius =  10.0  Area = 314.1592653589793\n"
          ]
        }
      ]
    },
    {
      "cell_type": "code",
      "source": [
        "#Question 6\n",
        "#How many unique words have been used in the sentence? Use the split methods and set to get the unique words.\n",
        "sentence = \"I am a teacher and I love to inspire and teach people\"\n",
        "\n",
        "#splitting the string for getting the individual elements\n",
        "Split = sentence.split(\" \")\n",
        "Sp_set = set(Split)\n",
        "print(\"Set: \",Sp_set)\n",
        "print(\"Number of unique words: \",len(Sp_set))"
      ],
      "metadata": {
        "colab": {
          "base_uri": "https://localhost:8080/"
        },
        "id": "cozCjnooKKc3",
        "outputId": "cf17a5c5-d372-443d-8576-d6bc0f80a7b3"
      },
      "execution_count": 39,
      "outputs": [
        {
          "output_type": "stream",
          "name": "stdout",
          "text": [
            "Set:  {'a', 'teach', 'am', 'inspire', 'and', 'love', 'I', 'to', 'people', 'teacher'}\n",
            "Number of unique words:  10\n"
          ]
        }
      ]
    },
    {
      "cell_type": "code",
      "source": [
        "#Question 7\n",
        "print(\"Name\\t\\tAge\\tCountry\\t\\tCity\\nAsabeneh\\t250\\tFinland\\t\\tHelsinki\")"
      ],
      "metadata": {
        "colab": {
          "base_uri": "https://localhost:8080/"
        },
        "id": "QxYaRaAuKxTw",
        "outputId": "e6a1fe09-d861-4427-fe67-1511b81a6882"
      },
      "execution_count": 42,
      "outputs": [
        {
          "output_type": "stream",
          "name": "stdout",
          "text": [
            "Name\t\tAge\tCountry\t\tCity\n",
            "Asabeneh\t250\tFinland\t\tHelsinki\n"
          ]
        }
      ]
    },
    {
      "cell_type": "code",
      "source": [
        "#Question 8\n",
        "radius = 10\n",
        "area = 3.14 * radius ** 2\n",
        "formatted_area = 'The area of circle with radius {} is {} meters square.'.format(radius, area)  #format() insert them inside the string's placeholder.  \n",
        "print(formatted_area)"
      ],
      "metadata": {
        "colab": {
          "base_uri": "https://localhost:8080/"
        },
        "id": "-T4lbjXCK-pi",
        "outputId": "11afa8c3-8d48-4cc2-b5a2-53a3c2c44b8b"
      },
      "execution_count": 44,
      "outputs": [
        {
          "output_type": "stream",
          "name": "stdout",
          "text": [
            "The area of circle with radius 10 is 314.0 meters square.\n"
          ]
        }
      ]
    },
    {
      "cell_type": "code",
      "source": [
        "#Question 9\n",
        "# Dynamically taking the input\n",
        "n = int(input('Enter the length:'))\n",
        "\n",
        "# creating two lists one for lbs and other for kgs\n",
        "list = []\n",
        "con_list =[]\n",
        "for i in range (0,n,1) :\n",
        "    p =  float(input('Enter the value:'))\n",
        "    list.append(p)\n",
        "\n",
        "for i in range (0,n,1):\n",
        "      q = list[i] * 0.453592\n",
        "      con_list.append(round(q,2))\n",
        "print(\"\\nConverted to kgs: \",con_list)"
      ],
      "metadata": {
        "colab": {
          "base_uri": "https://localhost:8080/"
        },
        "id": "-JNNLps9MB2o",
        "outputId": "5f20bbf2-5ddd-4de4-906b-700cd9ca0b59"
      },
      "execution_count": 45,
      "outputs": [
        {
          "output_type": "stream",
          "name": "stdout",
          "text": [
            "Enter the length:4\n",
            "Enter the value:56\n",
            "Enter the value:756\n",
            "Enter the value:756\n",
            "Enter the value:679\n",
            "\n",
            "Converted to kgs:  [25.4, 342.92, 342.92, 307.99]\n"
          ]
        }
      ]
    },
    {
      "cell_type": "code",
      "source": [],
      "metadata": {
        "id": "qcl416EMM49d"
      },
      "execution_count": null,
      "outputs": []
    }
  ]
}